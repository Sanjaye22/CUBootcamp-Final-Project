{
  "nbformat": 4,
  "nbformat_minor": 0,
  "metadata": {
    "colab": {
      "name": "drug_review_using_regression_eval.ipynb",
      "provenance": [],
      "collapsed_sections": []
    },
    "kernelspec": {
      "name": "python3",
      "display_name": "Python 3"
    }
  },
  "cells": [
    {
      "cell_type": "code",
      "metadata": {
        "id": "GgmYiF9HIBWC",
        "outputId": "7bb2ab33-b142-4746-ee91-0dd85e70c2f9",
        "colab": {
          "base_uri": "https://localhost:8080/",
          "height": 275
        }
      },
      "source": [
        "!apt-get install openjdk-8-jdk-headless -qq > /dev/null\n",
        "import os\n",
        "os.environ[\"JAVA_HOME\"] = \"/usr/lib/jvm/java-8-openjdk-amd64\"\n",
        "!update-alternatives --set java /usr/lib/jvm/java-8-openjdk-amd64/jre/bin/java\n",
        "!pip install pyspark"
      ],
      "execution_count": 1,
      "outputs": [
        {
          "output_type": "stream",
          "text": [
            "update-alternatives: using /usr/lib/jvm/java-8-openjdk-amd64/jre/bin/java to provide /usr/bin/java (java) in manual mode\n",
            "Collecting pyspark\n",
            "\u001b[?25l  Downloading https://files.pythonhosted.org/packages/f0/26/198fc8c0b98580f617cb03cb298c6056587b8f0447e20fa40c5b634ced77/pyspark-3.0.1.tar.gz (204.2MB)\n",
            "\u001b[K     |████████████████████████████████| 204.2MB 67kB/s \n",
            "\u001b[?25hCollecting py4j==0.10.9\n",
            "\u001b[?25l  Downloading https://files.pythonhosted.org/packages/9e/b6/6a4fb90cd235dc8e265a6a2067f2a2c99f0d91787f06aca4bcf7c23f3f80/py4j-0.10.9-py2.py3-none-any.whl (198kB)\n",
            "\u001b[K     |████████████████████████████████| 204kB 42.2MB/s \n",
            "\u001b[?25hBuilding wheels for collected packages: pyspark\n",
            "  Building wheel for pyspark (setup.py) ... \u001b[?25l\u001b[?25hdone\n",
            "  Created wheel for pyspark: filename=pyspark-3.0.1-py2.py3-none-any.whl size=204612243 sha256=1a02061013bca0e50af911c6bd1a0cce9af78eca295a6cb5a2b5c42daadfb8a0\n",
            "  Stored in directory: /root/.cache/pip/wheels/5e/bd/07/031766ca628adec8435bb40f0bd83bb676ce65ff4007f8e73f\n",
            "Successfully built pyspark\n",
            "Installing collected packages: py4j, pyspark\n",
            "Successfully installed py4j-0.10.9 pyspark-3.0.1\n"
          ],
          "name": "stdout"
        }
      ]
    },
    {
      "cell_type": "code",
      "metadata": {
        "id": "Oj-Vkz5fITB9"
      },
      "source": [
        "from pyspark import SparkFiles\n",
        "from pyspark.sql.types import *\n",
        "from pyspark.sql import SparkSession\n",
        "from pyspark.ml.feature import *\n",
        "from pyspark.ml.classification import *\n",
        "from pyspark.ml import Pipeline\n",
        "from pyspark.sql.functions import *\n",
        "from pyspark.ml.evaluation import BinaryClassificationEvaluator, MulticlassClassificationEvaluator"
      ],
      "execution_count": 2,
      "outputs": []
    },
    {
      "cell_type": "code",
      "metadata": {
        "id": "8nIWCKN3-qdH"
      },
      "source": [
        "spark =  SparkSession.builder \\\n",
        "    .master(\"local[*]\") \\\n",
        "    .config(\"spark.driver.memory\", \"14g\") \\\n",
        "    .appName(\"CloudETLProject\") \\\n",
        "    .getOrCreate()  "
      ],
      "execution_count": 3,
      "outputs": []
    },
    {
      "cell_type": "code",
      "metadata": {
        "id": "120ZmPktJVQV",
        "outputId": "9a7c8822-dcfe-45ce-cc20-36b872c7a57b",
        "colab": {
          "resources": {
            "http://localhost:8080/nbextensions/google.colab/files.js": {
              "data": "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",
              "ok": true,
              "headers": [
                [
                  "content-type",
                  "application/javascript"
                ]
              ],
              "status": 200,
              "status_text": ""
            }
          },
          "base_uri": "https://localhost:8080/",
          "height": 106
        }
      },
      "source": [
        "from google.colab import files\n",
        "uploaded = files.upload()"
      ],
      "execution_count": 5,
      "outputs": [
        {
          "output_type": "display_data",
          "data": {
            "text/html": [
              "\n",
              "     <input type=\"file\" id=\"files-b0d6118c-1d30-42ae-a378-b682c1e38266\" name=\"files[]\" multiple disabled\n",
              "        style=\"border:none\" />\n",
              "     <output id=\"result-b0d6118c-1d30-42ae-a378-b682c1e38266\">\n",
              "      Upload widget is only available when the cell has been executed in the\n",
              "      current browser session. Please rerun this cell to enable.\n",
              "      </output>\n",
              "      <script src=\"/nbextensions/google.colab/files.js\"></script> "
            ],
            "text/plain": [
              "<IPython.core.display.HTML object>"
            ]
          },
          "metadata": {
            "tags": []
          }
        },
        {
          "output_type": "stream",
          "text": [
            "Saving testfinal.csv to testfinal.csv\n",
            "Saving trainfinal.csv to trainfinal.csv\n"
          ],
          "name": "stdout"
        }
      ]
    },
    {
      "cell_type": "code",
      "metadata": {
        "id": "CKArFf1AL-2S"
      },
      "source": [
        "import pandas as pd\n",
        "pd_test = pd.read_csv('testfinal.csv', sep=',')\n",
        "pd_train = pd.read_csv('trainfinal.csv', sep=',')\n",
        "# testing = spark.read.csv((\"drugsComTest.csv\"), sep=\",\", header=True, timestampFormat=\"dd/mm/yyyy\")\n",
        "# df_train = spark.read.csv((\"drugsComTrain.csv\"), sep=\",\", header=True, timestampFormat=\"dd/mm/yyyy\")"
      ],
      "execution_count": 13,
      "outputs": []
    },
    {
      "cell_type": "code",
      "metadata": {
        "id": "G1euBGLTIthq"
      },
      "source": [
        "mySchema = StructType([ StructField(\"uniqueID\", StringType(), True)\\\n",
        "                       ,StructField(\"drugName\", StringType(), True)\\\n",
        "                       ,StructField(\"condition\", StringType(), True)\\\n",
        "                       ,StructField(\"review\", StringType(), True)\\\n",
        "                       ,StructField(\"rating\", IntegerType(), True)\\\n",
        "                       ,StructField(\"date\", StringType(), True)\\\n",
        "                       ,StructField(\"usefulCount\", StringType(), True)\\\n",
        "                     ])"
      ],
      "execution_count": 14,
      "outputs": []
    },
    {
      "cell_type": "code",
      "metadata": {
        "id": "VzV01fSUIN6j"
      },
      "source": [
        "from pyspark.sql import SQLContext\n",
        "from pyspark import SparkConf, SparkContext\n",
        "sc = SparkContext.getOrCreate()\n",
        "sqlContext = SQLContext(sc)\n",
        "\n",
        "df_test = sqlContext.createDataFrame(pd_test, schema=mySchema)\n",
        "df_train = sqlContext.createDataFrame(pd_train, schema=mySchema)"
      ],
      "execution_count": 15,
      "outputs": []
    },
    {
      "cell_type": "code",
      "metadata": {
        "id": "gAgUBgAT-_4u"
      },
      "source": [
        "spark.sparkContext.addFile(\"testfinal.csv\")\n",
        "spark.sparkContext.addFile(\"trainfinal.csv\")\n"
      ],
      "execution_count": 16,
      "outputs": []
    },
    {
      "cell_type": "code",
      "metadata": {
        "id": "7PBZf7rF-VFV",
        "outputId": "b799333e-6d59-41f5-8025-0f76f96dbf96",
        "colab": {
          "base_uri": "https://localhost:8080/",
          "height": 459
        }
      },
      "source": [
        "df_train.show()\n",
        "# 1-5 as 0\n",
        "# 6-10 as 1\n",
        "# Can divide usefulCount by number of years to get an average "
      ],
      "execution_count": 17,
      "outputs": [
        {
          "output_type": "stream",
          "text": [
            "+--------+--------------------+--------------------+--------------------+------+---------+-----------+\n",
            "|uniqueID|            drugName|           condition|              review|rating|     date|usefulCount|\n",
            "+--------+--------------------+--------------------+--------------------+------+---------+-----------+\n",
            "|  206461|           Valsartan|Left Ventricular ...|it has no side ef...|     1|20-May-12|         27|\n",
            "|   95260|          Guanfacine|                ADHD|my son is halfway...|     1|27-Apr-10|        192|\n",
            "|   92703|              Lybrel|       Birth Control|i used to take an...|     0|14-Dec-09|         17|\n",
            "|  138000|          Ortho Evra|       Birth Control|this is my first ...|     1| 3-Nov-15|         10|\n",
            "|   35696|Buprenorphine / n...|   Opiate Dependence|suboxone has comp...|     1|27-Nov-16|         37|\n",
            "|  155963|              Cialis|Benign Prostatic ...|nd day on mg star...|     0|28-Nov-15|         43|\n",
            "|  165907|      Levonorgestrel|Emergency Contrac...|he pulled out but...|     0| 7-Mar-17|          5|\n",
            "|  102654|        Aripiprazole|     Bipolar Disorde|abilify changed m...|     1|14-Mar-15|         32|\n",
            "|   74811|              Keppra|            Epilepsy| i ve had  nothin...|     0| 9-Aug-16|         11|\n",
            "|   48928|Ethinyl estradiol...|       Birth Control|i had been on the...|     1| 8-Dec-16|          1|\n",
            "|   29607|          Topiramate| Migraine Prevention|i have been on th...|     1| 1-Jan-15|         19|\n",
            "|   75612|      L-methylfolate|          Depression|i have taken anti...|     1| 9-Mar-17|         54|\n",
            "|  191290|             Pentasa|     Crohn's Disease|i had crohns with...|     0| 6-Jul-13|          8|\n",
            "|  221320|    Dextromethorphan|               Cough|have a little bit...|     0| 7-Sep-17|          1|\n",
            "|   98494|           Nexplanon|       Birth Control|started nexplanon...|     0| 7-Aug-14|         10|\n",
            "|   81890|         Liraglutide|             Obesity|i have been takin...|     1|19-Jan-17|         20|\n",
            "|   48188|        Trimethoprim|Urinary Tract Inf...|this drug worked ...|     1|22-Sep-17|          0|\n",
            "|  219869|       Amitriptyline|         ibromyalgia|ive been taking a...|     1|15-Mar-17|         39|\n",
            "|  212077|         Lamotrigine|     Bipolar Disorde|ive been on every...|     1| 9-Nov-14|         18|\n",
            "|  119705|           Nilotinib|Chronic Myelogeno...|i have been on ta...|     1| 1-Sep-15|         11|\n",
            "+--------+--------------------+--------------------+--------------------+------+---------+-----------+\n",
            "only showing top 20 rows\n",
            "\n"
          ],
          "name": "stdout"
        }
      ]
    },
    {
      "cell_type": "code",
      "metadata": {
        "id": "7wnOPVznMUgj",
        "outputId": "748c000c-b7cd-4d3a-b3e6-9e4b4184be30",
        "colab": {
          "base_uri": "https://localhost:8080/",
          "height": 459
        }
      },
      "source": [
        "df_test.show()"
      ],
      "execution_count": 18,
      "outputs": [
        {
          "output_type": "stream",
          "text": [
            "+--------+--------+--------------------+--------------------+------+---------+-----------+\n",
            "|uniqueID|drugName|           condition|              review|rating|     date|usefulCount|\n",
            "+--------+--------+--------------------+--------------------+------+---------+-----------+\n",
            "|  103785| ZzzQuil|            Insomnia|gave me rapid hea...|     0|26-May-17|          1|\n",
            "|   51804|   Zyvox|          Bacteremia|    it cured my mrsa|     1| 8-Oct-08|         20|\n",
            "|   51790|   Zyvox|Skin and Structur...|i have been on zy...|     1| 3-Jul-15|          6|\n",
            "|   51784|   Zyvox| Bacterial Infection|it didnt work as ...|     1|17-Apr-16|          1|\n",
            "|   51797|   Zyvox|Methicillin-Resis...|i have had  major...|     1| 7-Dec-09|         22|\n",
            "|   51791|   Zyvox|Methicillin-Resis...|i had mrsa inf la...|     1|31-Oct-13|         17|\n",
            "|   51796|   Zyvox|Methicillin-Resis...|i got a mrsa stap...|     1| 2-Aug-11|         29|\n",
            "|  222186|  Zytiga|     Prostate Cancer|very satisfied wi...|     1|23-Dec-16|          7|\n",
            "|  222184|  Zytiga|     Prostate Cancer|effectiveness las...|     0|15-Nov-17|          0|\n",
            "|  222191|  Zytiga|     Prostate Cancer|my psa was going ...|     1|22-Mar-15|         29|\n",
            "|  222194|  Zytiga|     Prostate Cancer|on zytiga for  mo...|     1| 9-Jun-13|         57|\n",
            "|  222189|  Zytiga|     Prostate Cancer|began zytiga with...|     1|31-May-15|         17|\n",
            "|   34475|Zyrtec-D|No condition indi...|had tried clariti...|     1| 1-Dec-08|          4|\n",
            "|   34474|Zyrtec-D|   Allergic Rhinitis|this medicine wor...|     1|16-Jan-09|         22|\n",
            "|   59419|  Zyrtec|           Urticaria|i have had cholin...|     1|15-Nov-08|         43|\n",
            "|   59323|  Zyrtec|           Urticaria|after travelling ...|     1|11-Dec-15|         24|\n",
            "|   59391|  Zyrtec|   Allergic Rhinitis|i suffered from m...|     1| 9-Nov-10|         14|\n",
            "|   59300|  Zyrtec|           Urticaria|i recently had te...|     1|12-Jul-17|          8|\n",
            "|   59422|  Zyrtec|           Urticaria|it works great fo...|     1|23-Sep-08|         43|\n",
            "|   59315|  Zyrtec|           Urticaria|had hives nearly ...|     1| 3-Aug-16|         22|\n",
            "+--------+--------+--------------------+--------------------+------+---------+-----------+\n",
            "only showing top 20 rows\n",
            "\n"
          ],
          "name": "stdout"
        }
      ]
    },
    {
      "cell_type": "code",
      "metadata": {
        "id": "sNoHe2zNBLaY"
      },
      "source": [
        "drop_df = df_test.drop('uniqueID','drugName','condition', 'date', 'usefulCount' ).collect()\n",
        "drop_df_two = df_train.drop('uniqueID','drugName','condition', 'date', 'usefulCount' ).collect()\n",
        "# review_data = Tokenizer(inputCol=\"review\", outputCol=\"words\")\n"
      ],
      "execution_count": 19,
      "outputs": []
    },
    {
      "cell_type": "code",
      "metadata": {
        "id": "l0r15bSILTHa",
        "outputId": "a5b2400d-4eb5-4e47-aeae-430a306242ae",
        "colab": {
          "base_uri": "https://localhost:8080/",
          "height": 459
        }
      },
      "source": [
        "test_df = spark.createDataFrame(drop_df)\n",
        "test_df.show()"
      ],
      "execution_count": 20,
      "outputs": [
        {
          "output_type": "stream",
          "text": [
            "+--------------------+------+\n",
            "|              review|rating|\n",
            "+--------------------+------+\n",
            "|gave me rapid hea...|     0|\n",
            "|    it cured my mrsa|     1|\n",
            "|i have been on zy...|     1|\n",
            "|it didnt work as ...|     1|\n",
            "|i have had  major...|     1|\n",
            "|i had mrsa inf la...|     1|\n",
            "|i got a mrsa stap...|     1|\n",
            "|very satisfied wi...|     1|\n",
            "|effectiveness las...|     0|\n",
            "|my psa was going ...|     1|\n",
            "|on zytiga for  mo...|     1|\n",
            "|began zytiga with...|     1|\n",
            "|had tried clariti...|     1|\n",
            "|this medicine wor...|     1|\n",
            "|i have had cholin...|     1|\n",
            "|after travelling ...|     1|\n",
            "|i suffered from m...|     1|\n",
            "|i recently had te...|     1|\n",
            "|it works great fo...|     1|\n",
            "|had hives nearly ...|     1|\n",
            "+--------------------+------+\n",
            "only showing top 20 rows\n",
            "\n"
          ],
          "name": "stdout"
        }
      ]
    },
    {
      "cell_type": "code",
      "metadata": {
        "id": "Z1TBW-oRS5id",
        "outputId": "b922f06d-ec69-4b62-d3d4-26b9c5905282",
        "colab": {
          "base_uri": "https://localhost:8080/",
          "height": 459
        }
      },
      "source": [
        "train_df = spark.createDataFrame(drop_df_two)\n",
        "train_df.show()"
      ],
      "execution_count": 21,
      "outputs": [
        {
          "output_type": "stream",
          "text": [
            "+--------------------+------+\n",
            "|              review|rating|\n",
            "+--------------------+------+\n",
            "|it has no side ef...|     1|\n",
            "|my son is halfway...|     1|\n",
            "|i used to take an...|     0|\n",
            "|this is my first ...|     1|\n",
            "|suboxone has comp...|     1|\n",
            "|nd day on mg star...|     0|\n",
            "|he pulled out but...|     0|\n",
            "|abilify changed m...|     1|\n",
            "| i ve had  nothin...|     0|\n",
            "|i had been on the...|     1|\n",
            "|i have been on th...|     1|\n",
            "|i have taken anti...|     1|\n",
            "|i had crohns with...|     0|\n",
            "|have a little bit...|     0|\n",
            "|started nexplanon...|     0|\n",
            "|i have been takin...|     1|\n",
            "|this drug worked ...|     1|\n",
            "|ive been taking a...|     1|\n",
            "|ive been on every...|     1|\n",
            "|i have been on ta...|     1|\n",
            "+--------------------+------+\n",
            "only showing top 20 rows\n",
            "\n"
          ],
          "name": "stdout"
        }
      ]
    },
    {
      "cell_type": "code",
      "metadata": {
        "id": "qF7tQW-oTJuq",
        "outputId": "bbad1dfd-320f-4f5d-dbb9-7b28d1703b84",
        "colab": {
          "base_uri": "https://localhost:8080/",
          "height": 136
        }
      },
      "source": [
        "train_df.groupBy(\"rating\").count().orderBy(desc(\"count\")).show()"
      ],
      "execution_count": 22,
      "outputs": [
        {
          "output_type": "stream",
          "text": [
            "+------+------+\n",
            "|rating| count|\n",
            "+------+------+\n",
            "|     1|113209|\n",
            "|     0| 48088|\n",
            "+------+------+\n",
            "\n"
          ],
          "name": "stdout"
        }
      ]
    },
    {
      "cell_type": "code",
      "metadata": {
        "id": "3u7ajRCYfNBq",
        "outputId": "7973ee68-6cb7-47af-b23b-1039558b869b",
        "colab": {
          "base_uri": "https://localhost:8080/",
          "height": 136
        }
      },
      "source": [
        "test_df.groupby(\"rating\").count().orderBy(desc(\"count\")).show()\n"
      ],
      "execution_count": 23,
      "outputs": [
        {
          "output_type": "stream",
          "text": [
            "+------+-----+\n",
            "|rating|count|\n",
            "+------+-----+\n",
            "|     1|37559|\n",
            "|     0|16207|\n",
            "+------+-----+\n",
            "\n"
          ],
          "name": "stdout"
        }
      ]
    },
    {
      "cell_type": "code",
      "metadata": {
        "id": "ltpMkCWipIE2"
      },
      "source": [
        "# add stop words\n",
        "# add a stemmer before vectorizing \n",
        "# add stop words \n",
        "# try naive bayes as another option to compare\n",
        "\n",
        "def build_trigrams(inputCol=[\"review\",\"rating\"], n=3):\n",
        "    tokenizer = [Tokenizer(inputCol=\"review\", outputCol=\"words\")]\n",
        "\n",
        "# Get rid of stop words\n",
        "    stopremove = [StopWordsRemover(inputCol='words',outputCol='stop_tokens')]\n",
        "\n",
        "# Stem the words\n",
        "\n",
        "# Creates a column for every word, two and three words. n=3\n",
        "    ngrams = [\n",
        "        NGram(n=i, inputCol=\"stop_tokens\", outputCol=\"{0}_grams\".format(i))\n",
        "        for i in range(1, n + 1)\n",
        "    ]\n",
        "# Min term frequency = how many times does it occur in review\n",
        "# df - times drug occurs in document \n",
        "    cv = [\n",
        "        CountVectorizer(vocabSize=2**14,inputCol=\"{0}_grams\".format(i),\n",
        "            outputCol=\"{0}_tf\".format(i))\n",
        "        for i in range(1, n + 1)\n",
        "    ]\n",
        "    idf = [IDF(inputCol=\"{0}_tf\".format(i), outputCol=\"{0}_tfidf\".format(i), minDocFreq=5) for i in range(1, n + 1)]\n",
        "# cv and idf act as a \n",
        "    assembler = [VectorAssembler(\n",
        "        inputCols=[\"{0}_tfidf\".format(i) for i in range(1, n + 1)],\n",
        "        outputCol=\"features\"\n",
        "    )]\n",
        "# stringindexer \n",
        "    label_stringIdx = [StringIndexer(inputCol = \"rating\", outputCol = \"label\")]\n",
        "    # selector = [ChiSqSelector(numTopFeatures=2**14,featuresCol='rawFeatures', outputCol=\"features\")]\n",
        "    lr = [LogisticRegression(maxIter=100)]\n",
        "    return Pipeline(stages=tokenizer + stopremove + ngrams + cv + idf + assembler + label_stringIdx + lr)"
      ],
      "execution_count": 27,
      "outputs": []
    },
    {
      "cell_type": "code",
      "metadata": {
        "id": "NIpBtc8w87VQ"
      },
      "source": [
        "trigram_pipelineFit = build_trigrams().fit(train_df)\n",
        "test_results = trigram_pipelineFit.transform(test_df)"
      ],
      "execution_count": 25,
      "outputs": []
    },
    {
      "cell_type": "code",
      "metadata": {
        "id": "Dm2zz-xA9rSw",
        "outputId": "db4a5ea8-ad2a-4cc6-a84a-18fda5f9382c",
        "colab": {
          "base_uri": "https://localhost:8080/",
          "height": 442
        }
      },
      "source": [
        "test_results.printSchema()"
      ],
      "execution_count": 33,
      "outputs": [
        {
          "output_type": "stream",
          "text": [
            "root\n",
            " |-- review: string (nullable = true)\n",
            " |-- rating: long (nullable = true)\n",
            " |-- words: array (nullable = true)\n",
            " |    |-- element: string (containsNull = true)\n",
            " |-- stop_tokens: array (nullable = true)\n",
            " |    |-- element: string (containsNull = true)\n",
            " |-- 1_grams: array (nullable = true)\n",
            " |    |-- element: string (containsNull = true)\n",
            " |-- 2_grams: array (nullable = true)\n",
            " |    |-- element: string (containsNull = true)\n",
            " |-- 3_grams: array (nullable = true)\n",
            " |    |-- element: string (containsNull = true)\n",
            " |-- 1_tf: vector (nullable = true)\n",
            " |-- 2_tf: vector (nullable = true)\n",
            " |-- 3_tf: vector (nullable = true)\n",
            " |-- 1_tfidf: vector (nullable = true)\n",
            " |-- 2_tfidf: vector (nullable = true)\n",
            " |-- 3_tfidf: vector (nullable = true)\n",
            " |-- features: vector (nullable = true)\n",
            " |-- label: double (nullable = false)\n",
            " |-- rawPrediction: vector (nullable = true)\n",
            " |-- probability: vector (nullable = true)\n",
            " |-- prediction: double (nullable = false)\n",
            "\n"
          ],
          "name": "stdout"
        }
      ]
    },
    {
      "cell_type": "code",
      "metadata": {
        "id": "hTSaSSUQ9zDX",
        "outputId": "95b0b777-89b8-4f24-fa75-a45266d0cfe1",
        "colab": {
          "base_uri": "https://localhost:8080/",
          "height": 204
        }
      },
      "source": [
        "predictions.select(col(\"prediction\"), col('label')).show(5)"
      ],
      "execution_count": 34,
      "outputs": [
        {
          "output_type": "stream",
          "text": [
            "+----------+-----+\n",
            "|prediction|label|\n",
            "+----------+-----+\n",
            "|       1.0|  1.0|\n",
            "|       0.0|  0.0|\n",
            "|       0.0|  0.0|\n",
            "|       0.0|  0.0|\n",
            "|       0.0|  0.0|\n",
            "+----------+-----+\n",
            "only showing top 5 rows\n",
            "\n"
          ],
          "name": "stdout"
        }
      ]
    },
    {
      "cell_type": "code",
      "metadata": {
        "id": "YIAkCpaAcUoK",
        "outputId": "98e1e62e-8ade-411c-9642-fb8ee335f169",
        "colab": {
          "base_uri": "https://localhost:8080/",
          "height": 51
        }
      },
      "source": [
        "# classification report - look for false positive, false negative. \n",
        "# use a different evaluator to try\n",
        "from pyspark.ml.evaluation import RegressionEvaluator\n",
        "\n",
        "evaluator = RegressionEvaluator()\n",
        "\n",
        "accuracy = predictions.filter(predictions.label == predictions.prediction).count() / float(predictions.count())\n",
        "roc_auc = evaluator.evaluate(predictions)\n",
        "print(\"Accuracy Score: {0:.4f}\".format(accuracy))\n",
        "print(\"ROC-AUC: {0:.4f}\".format(roc_auc))"
      ],
      "execution_count": 45,
      "outputs": [
        {
          "output_type": "stream",
          "text": [
            "Accuracy Score: 0.9097\n",
            "ROC-AUC: 0.3005\n"
          ],
          "name": "stdout"
        }
      ]
    },
    {
      "cell_type": "code",
      "metadata": {
        "id": "QBsp_cbhFPol"
      },
      "source": [
        "testreview = spark.createDataFrame([\n",
        "                                    (\"I sent these to my sister who is in pain daily. She was happy to get them and reported that they helped her a great deal.\", 10)\n",
        "], [\"review\", \"rating\"])"
      ],
      "execution_count": 46,
      "outputs": []
    },
    {
      "cell_type": "code",
      "metadata": {
        "id": "1D9l0k0ePCd4"
      },
      "source": [
        "testreview = trigram_pipelineFit.transform(testreview)"
      ],
      "execution_count": 47,
      "outputs": []
    },
    {
      "cell_type": "code",
      "metadata": {
        "id": "kbyfgrA9GFdB",
        "outputId": "fbb15fdf-55d2-4ca1-ebb5-81e26ced3de2",
        "colab": {
          "base_uri": "https://localhost:8080/",
          "height": 119
        }
      },
      "source": [
        "testreview.select([\"rawPrediction\",\"probability\", \"prediction\"]).show(truncate=False)"
      ],
      "execution_count": 48,
      "outputs": [
        {
          "output_type": "stream",
          "text": [
            "+--------------------------------------+-----------------------------------------+----------+\n",
            "|rawPrediction                         |probability                              |prediction|\n",
            "+--------------------------------------+-----------------------------------------+----------+\n",
            "|[16.80364843162202,-16.80364843162202]|[0.9999999496188371,5.038116298628847E-8]|0.0       |\n",
            "+--------------------------------------+-----------------------------------------+----------+\n",
            "\n"
          ],
          "name": "stdout"
        }
      ]
    },
    {
      "cell_type": "code",
      "metadata": {
        "id": "_pdcz40O_014",
        "outputId": "9a999b49-5525-497d-8810-6afc1238adc5",
        "colab": {
          "base_uri": "https://localhost:8080/",
          "height": 136
        }
      },
      "source": [
        "train_df.groupBy(\"rating\").count().orderBy(desc(\"count\")).show()"
      ],
      "execution_count": 49,
      "outputs": [
        {
          "output_type": "stream",
          "text": [
            "+------+------+\n",
            "|rating| count|\n",
            "+------+------+\n",
            "|     1|113209|\n",
            "|     0| 48088|\n",
            "+------+------+\n",
            "\n"
          ],
          "name": "stdout"
        }
      ]
    },
    {
      "cell_type": "code",
      "metadata": {
        "id": "n3DjbUyRtdKi"
      },
      "source": [
        "trigram_pipelineFit.save(\"test_save\")"
      ],
      "execution_count": 51,
      "outputs": []
    },
    {
      "cell_type": "code",
      "metadata": {
        "id": "s8GO0GWQFrlr"
      },
      "source": [
        "# create a clean function to be applied to app.py for the input later on. "
      ],
      "execution_count": null,
      "outputs": []
    }
  ]
}